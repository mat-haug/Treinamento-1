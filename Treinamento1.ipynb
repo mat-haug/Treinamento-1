{
 "cells": [
  {
   "cell_type": "code",
   "execution_count": null,
   "metadata": {},
   "outputs": [
    {
     "data": {
      "text/html": [
       "<div>\n",
       "<style scoped>\n",
       "    .dataframe tbody tr th:only-of-type {\n",
       "        vertical-align: middle;\n",
       "    }\n",
       "\n",
       "    .dataframe tbody tr th {\n",
       "        vertical-align: top;\n",
       "    }\n",
       "\n",
       "    .dataframe thead th {\n",
       "        text-align: right;\n",
       "    }\n",
       "</style>\n",
       "<table border=\"1\" class=\"dataframe\">\n",
       "  <thead>\n",
       "    <tr style=\"text-align: right;\">\n",
       "      <th></th>\n",
       "      <th>Unnamed: 0</th>\n",
       "      <th>artist_popularity</th>\n",
       "      <th>followers</th>\n",
       "      <th>genres</th>\n",
       "      <th>id</th>\n",
       "      <th>name</th>\n",
       "      <th>track_id</th>\n",
       "      <th>track_name_prev</th>\n",
       "      <th>type</th>\n",
       "    </tr>\n",
       "  </thead>\n",
       "  <tbody>\n",
       "    <tr>\n",
       "      <th>0</th>\n",
       "      <td>0</td>\n",
       "      <td>44</td>\n",
       "      <td>23230</td>\n",
       "      <td>['sertanejo', 'sertanejo pop', 'sertanejo trad...</td>\n",
       "      <td>4mGnpjhqgx4RUdsIJiURdo</td>\n",
       "      <td>Juliano Cezar</td>\n",
       "      <td>0wmDmAILuW9e2aRttkl4aC</td>\n",
       "      <td>track_9</td>\n",
       "      <td>artist</td>\n",
       "    </tr>\n",
       "    <tr>\n",
       "      <th>1</th>\n",
       "      <td>1</td>\n",
       "      <td>22</td>\n",
       "      <td>313</td>\n",
       "      <td>[]</td>\n",
       "      <td>1dLnVku4VQUOLswwDFvRc9</td>\n",
       "      <td>The Grenadines</td>\n",
       "      <td>4wqwj0gA8qPZKLl5WVqXml</td>\n",
       "      <td>track_30</td>\n",
       "      <td>artist</td>\n",
       "    </tr>\n",
       "    <tr>\n",
       "      <th>2</th>\n",
       "      <td>2</td>\n",
       "      <td>26</td>\n",
       "      <td>1596</td>\n",
       "      <td>['danish pop rock']</td>\n",
       "      <td>6YVY310fjfUzKi8hiqR7iK</td>\n",
       "      <td>Gangway</td>\n",
       "      <td>1bFqWDbvHmZe2f4Nf9qaD8</td>\n",
       "      <td>track_38</td>\n",
       "      <td>artist</td>\n",
       "    </tr>\n",
       "    <tr>\n",
       "      <th>3</th>\n",
       "      <td>3</td>\n",
       "      <td>31</td>\n",
       "      <td>149</td>\n",
       "      <td>['uk alternative pop']</td>\n",
       "      <td>2VElyouiCfoYPDJluzwJwK</td>\n",
       "      <td>FADES</td>\n",
       "      <td>3MFSUBAidPzRBbIS7BDj1S</td>\n",
       "      <td>track_34</td>\n",
       "      <td>artist</td>\n",
       "    </tr>\n",
       "    <tr>\n",
       "      <th>4</th>\n",
       "      <td>4</td>\n",
       "      <td>21</td>\n",
       "      <td>11</td>\n",
       "      <td>['french baroque']</td>\n",
       "      <td>4agVy03qW8juSysCTUOuDI</td>\n",
       "      <td>Jean-Pierre Guignon</td>\n",
       "      <td>2r3q57FhxdsCyYr0kuDq4b</td>\n",
       "      <td>track_26</td>\n",
       "      <td>artist</td>\n",
       "    </tr>\n",
       "  </tbody>\n",
       "</table>\n",
       "</div>"
      ],
      "text/plain": [
       "   Unnamed: 0  artist_popularity  followers  \\\n",
       "0           0                 44      23230   \n",
       "1           1                 22        313   \n",
       "2           2                 26       1596   \n",
       "3           3                 31        149   \n",
       "4           4                 21         11   \n",
       "\n",
       "                                              genres                      id  \\\n",
       "0  ['sertanejo', 'sertanejo pop', 'sertanejo trad...  4mGnpjhqgx4RUdsIJiURdo   \n",
       "1                                                 []  1dLnVku4VQUOLswwDFvRc9   \n",
       "2                                ['danish pop rock']  6YVY310fjfUzKi8hiqR7iK   \n",
       "3                             ['uk alternative pop']  2VElyouiCfoYPDJluzwJwK   \n",
       "4                                 ['french baroque']  4agVy03qW8juSysCTUOuDI   \n",
       "\n",
       "                  name                track_id track_name_prev    type  \n",
       "0        Juliano Cezar  0wmDmAILuW9e2aRttkl4aC         track_9  artist  \n",
       "1       The Grenadines  4wqwj0gA8qPZKLl5WVqXml        track_30  artist  \n",
       "2              Gangway  1bFqWDbvHmZe2f4Nf9qaD8        track_38  artist  \n",
       "3                FADES  3MFSUBAidPzRBbIS7BDj1S        track_34  artist  \n",
       "4  Jean-Pierre Guignon  2r3q57FhxdsCyYr0kuDq4b        track_26  artist  "
      ]
     },
     "execution_count": 4,
     "metadata": {},
     "output_type": "execute_result"
    }
   ],
   "source": [
    "import pandas as pd\n",
    "\n",
    "base_artistas = pd.read_csv(\"spotify_artists.csv\")\n",
    "\n",
    "base_artistas.head()\n"
   ]
  },
  {
   "cell_type": "code",
   "execution_count": 13,
   "metadata": {},
   "outputs": [
    {
     "data": {
      "text/html": [
       "<div>\n",
       "<style scoped>\n",
       "    .dataframe tbody tr th:only-of-type {\n",
       "        vertical-align: middle;\n",
       "    }\n",
       "\n",
       "    .dataframe tbody tr th {\n",
       "        vertical-align: top;\n",
       "    }\n",
       "\n",
       "    .dataframe thead th {\n",
       "        text-align: right;\n",
       "    }\n",
       "</style>\n",
       "<table border=\"1\" class=\"dataframe\">\n",
       "  <thead>\n",
       "    <tr style=\"text-align: right;\">\n",
       "      <th></th>\n",
       "      <th>Unnamed: 0</th>\n",
       "      <th>artist_popularity</th>\n",
       "      <th>followers</th>\n",
       "      <th>genres</th>\n",
       "      <th>id</th>\n",
       "      <th>name</th>\n",
       "      <th>track_id</th>\n",
       "      <th>track_name_prev</th>\n",
       "      <th>type</th>\n",
       "    </tr>\n",
       "  </thead>\n",
       "  <tbody>\n",
       "  </tbody>\n",
       "</table>\n",
       "</div>"
      ],
      "text/plain": [
       "Empty DataFrame\n",
       "Columns: [Unnamed: 0, artist_popularity, followers, genres, id, name, track_id, track_name_prev, type]\n",
       "Index: []"
      ]
     },
     "execution_count": 13,
     "metadata": {},
     "output_type": "execute_result"
    }
   ],
   "source": [
    "base_artistas.loc[base_artistas['followers'] < 0]\n",
    "\n"
   ]
  },
  {
   "cell_type": "code",
   "execution_count": 18,
   "metadata": {},
   "outputs": [
    {
     "data": {
      "text/html": [
       "<div>\n",
       "<style scoped>\n",
       "    .dataframe tbody tr th:only-of-type {\n",
       "        vertical-align: middle;\n",
       "    }\n",
       "\n",
       "    .dataframe tbody tr th {\n",
       "        vertical-align: top;\n",
       "    }\n",
       "\n",
       "    .dataframe thead th {\n",
       "        text-align: right;\n",
       "    }\n",
       "</style>\n",
       "<table border=\"1\" class=\"dataframe\">\n",
       "  <thead>\n",
       "    <tr style=\"text-align: right;\">\n",
       "      <th></th>\n",
       "      <th>Unnamed: 0</th>\n",
       "      <th>artist_popularity</th>\n",
       "      <th>followers</th>\n",
       "      <th>genres</th>\n",
       "      <th>id</th>\n",
       "      <th>name</th>\n",
       "      <th>track_id</th>\n",
       "      <th>track_name_prev</th>\n",
       "      <th>type</th>\n",
       "    </tr>\n",
       "  </thead>\n",
       "  <tbody>\n",
       "  </tbody>\n",
       "</table>\n",
       "</div>"
      ],
      "text/plain": [
       "Empty DataFrame\n",
       "Columns: [Unnamed: 0, artist_popularity, followers, genres, id, name, track_id, track_name_prev, type]\n",
       "Index: []"
      ]
     },
     "execution_count": 18,
     "metadata": {},
     "output_type": "execute_result"
    }
   ],
   "source": [
    "base_artistas.loc[base_artistas['artist_popularity'] < 0]"
   ]
  },
  {
   "cell_type": "code",
   "execution_count": null,
   "metadata": {},
   "outputs": [],
   "source": [
    "base_artistas.loc[base_artistas['artist_popularity'] < 0]"
   ]
  },
  {
   "cell_type": "code",
   "execution_count": null,
   "metadata": {},
   "outputs": [
    {
     "data": {
      "text/html": [
       "<div>\n",
       "<style scoped>\n",
       "    .dataframe tbody tr th:only-of-type {\n",
       "        vertical-align: middle;\n",
       "    }\n",
       "\n",
       "    .dataframe tbody tr th {\n",
       "        vertical-align: top;\n",
       "    }\n",
       "\n",
       "    .dataframe thead th {\n",
       "        text-align: right;\n",
       "    }\n",
       "</style>\n",
       "<table border=\"1\" class=\"dataframe\">\n",
       "  <thead>\n",
       "    <tr style=\"text-align: right;\">\n",
       "      <th></th>\n",
       "      <th>Unnamed: 0</th>\n",
       "      <th>artist_popularity</th>\n",
       "      <th>followers</th>\n",
       "      <th>genres</th>\n",
       "      <th>id</th>\n",
       "      <th>name</th>\n",
       "      <th>track_id</th>\n",
       "      <th>track_name_prev</th>\n",
       "      <th>type</th>\n",
       "    </tr>\n",
       "  </thead>\n",
       "  <tbody>\n",
       "    <tr>\n",
       "      <th>3836</th>\n",
       "      <td>3836</td>\n",
       "      <td>50</td>\n",
       "      <td>1142</td>\n",
       "      <td>[]</td>\n",
       "      <td>4oPYazJJ1o4rWBrTw9lm40</td>\n",
       "      <td>NaN</td>\n",
       "      <td>5OJZjoVoyNbzD24C7tkycW</td>\n",
       "      <td>track_7</td>\n",
       "      <td>artist</td>\n",
       "    </tr>\n",
       "  </tbody>\n",
       "</table>\n",
       "</div>"
      ],
      "text/plain": [
       "      Unnamed: 0  artist_popularity  followers genres                      id  \\\n",
       "3836        3836                 50       1142     []  4oPYazJJ1o4rWBrTw9lm40   \n",
       "\n",
       "     name                track_id track_name_prev    type  \n",
       "3836  NaN  5OJZjoVoyNbzD24C7tkycW         track_7  artist  "
      ]
     },
     "execution_count": 22,
     "metadata": {},
     "output_type": "execute_result"
    }
   ],
   "source": [
    "\n",
    "base_artistas.isnull().sum()\n",
    "base_artistas[base_artistas.isnull().any(axis=1)]\n"
   ]
  },
  {
   "cell_type": "code",
   "execution_count": 23,
   "metadata": {},
   "outputs": [
    {
     "data": {
      "text/plain": [
       "Unnamed: 0           0\n",
       "artist_popularity    0\n",
       "followers            0\n",
       "genres               0\n",
       "id                   0\n",
       "name                 0\n",
       "track_id             0\n",
       "track_name_prev      0\n",
       "type                 0\n",
       "dtype: int64"
      ]
     },
     "execution_count": 23,
     "metadata": {},
     "output_type": "execute_result"
    }
   ],
   "source": [
    "base_artistas.dropna(inplace = True)\n",
    "base_artistas.isnull().sum()"
   ]
  },
  {
   "cell_type": "code",
   "execution_count": null,
   "metadata": {},
   "outputs": [],
   "source": [
    "print('teste')"
   ]
  }
 ],
 "metadata": {
  "kernelspec": {
   "display_name": "Python 3",
   "language": "python",
   "name": "python3"
  },
  "language_info": {
   "codemirror_mode": {
    "name": "ipython",
    "version": 3
   },
   "file_extension": ".py",
   "mimetype": "text/x-python",
   "name": "python",
   "nbconvert_exporter": "python",
   "pygments_lexer": "ipython3",
   "version": "3.13.2"
  }
 },
 "nbformat": 4,
 "nbformat_minor": 2
}
